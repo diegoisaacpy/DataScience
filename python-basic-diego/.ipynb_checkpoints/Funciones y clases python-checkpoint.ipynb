{
 "cells": [
  {
   "cell_type": "markdown",
   "id": "6f8ad506",
   "metadata": {},
   "source": [
    "# Funciones en python"
   ]
  },
  {
   "cell_type": "code",
   "execution_count": null,
   "id": "281b02cf",
   "metadata": {},
   "outputs": [],
   "source": [
    "def suma(x,y):\n",
    "    return x+y"
   ]
  },
  {
   "cell_type": "code",
   "execution_count": 1,
   "id": "7a6b9c6a",
   "metadata": {},
   "outputs": [],
   "source": [
    "class Operaciones(object):\n",
    "    def suma(self, a,b):\n",
    "        self.resultado = a + b\n",
    "        return self.resultado"
   ]
  },
  {
   "cell_type": "code",
   "execution_count": 2,
   "id": "d7e68fdc",
   "metadata": {},
   "outputs": [
    {
     "name": "stdout",
     "output_type": "stream",
     "text": [
      "2\n"
     ]
    }
   ],
   "source": [
    "print(Operaciones().suma(1,1))"
   ]
  },
  {
   "cell_type": "code",
   "execution_count": 3,
   "id": "e4d6cbc6",
   "metadata": {},
   "outputs": [
    {
     "name": "stdout",
     "output_type": "stream",
     "text": [
      "hola\n"
     ]
    }
   ],
   "source": [
    "def hola():\n",
    "    print('hola')\n",
    "hola()"
   ]
  },
  {
   "cell_type": "markdown",
   "id": "d3462e04",
   "metadata": {},
   "source": [
    "# Funciones lambdas (anonimas)"
   ]
  },
  {
   "cell_type": "code",
   "execution_count": 4,
   "id": "655ed2a1",
   "metadata": {},
   "outputs": [
    {
     "data": {
      "text/plain": [
       "6"
      ]
     },
     "execution_count": 4,
     "metadata": {},
     "output_type": "execute_result"
    }
   ],
   "source": [
    "doble = lambda x: x*2 #sintaxis de la declaracion. \n",
    "doble(3)"
   ]
  },
  {
   "cell_type": "code",
   "execution_count": null,
   "id": "7bcc774b",
   "metadata": {},
   "outputs": [],
   "source": []
  }
 ],
 "metadata": {
  "kernelspec": {
   "display_name": "Python 3 (ipykernel)",
   "language": "python",
   "name": "python3"
  },
  "language_info": {
   "codemirror_mode": {
    "name": "ipython",
    "version": 3
   },
   "file_extension": ".py",
   "mimetype": "text/x-python",
   "name": "python",
   "nbconvert_exporter": "python",
   "pygments_lexer": "ipython3",
   "version": "3.10.9"
  }
 },
 "nbformat": 4,
 "nbformat_minor": 5
}
