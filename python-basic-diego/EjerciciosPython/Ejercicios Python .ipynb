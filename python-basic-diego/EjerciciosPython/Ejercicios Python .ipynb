{
 "cells": [
  {
   "cell_type": "markdown",
   "id": "e259db37",
   "metadata": {},
   "source": [
    "Escribe una secuencia de instrucciones que permitan leer un número real por pantalla y que muestre si el número es positivo o no."
   ]
  },
  {
   "cell_type": "code",
   "execution_count": 1,
   "id": "13699185",
   "metadata": {},
   "outputs": [],
   "source": [
    "def EsPositivo(a):\n",
    "    if a > 0:\n",
    "        return 'Positivo'\n",
    "    else:\n",
    "        return \"No es positivo\""
   ]
  },
  {
   "cell_type": "code",
   "execution_count": 10,
   "id": "90b908aa",
   "metadata": {},
   "outputs": [
    {
     "name": "stdout",
     "output_type": "stream",
     "text": [
      "No esta en rango\n",
      "None\n",
      "Esta en rango\n",
      "None\n"
     ]
    }
   ],
   "source": [
    "print(EsPositivo(10))\n",
    "print(EsPositivo(-1))"
   ]
  },
  {
   "cell_type": "markdown",
   "id": "33a5487b",
   "metadata": {},
   "source": [
    "Escribe una secuencia de instrucciones que permitan leer un número real por pantalla y que muestre si el número está en el rango entre -5 y 5, ambos incluidos.\n"
   ]
  },
  {
   "cell_type": "code",
   "execution_count": 7,
   "id": "0f248caa",
   "metadata": {},
   "outputs": [],
   "source": [
    "def Rango(a):\n",
    "    if a < 5 and a > -5 :\n",
    "        print('Esta en rango')\n",
    "    else:\n",
    "        print('No esta en rango')"
   ]
  },
  {
   "cell_type": "code",
   "execution_count": 8,
   "id": "1bc6061e",
   "metadata": {},
   "outputs": [
    {
     "name": "stdout",
     "output_type": "stream",
     "text": [
      "Esta en rango\n",
      "No esta en rango\n"
     ]
    }
   ],
   "source": [
    "Rango(4)\n",
    "Rango(-10)\n"
   ]
  },
  {
   "cell_type": "markdown",
   "id": "105158e4",
   "metadata": {},
   "source": [
    "Escribe una secuencia de instrucciones que permitan leer las coordenadas de un punto (x, y) e indique en cuál de los cuatro cuadrantes se encuentra dicho punto.\n",
    "\n",
    "Si x = 0, deberás indicar que el punto se encuentra sobre el eje vertical.\n",
    "\n",
    "Si y = 0, deberás indicar que el punto se encuentra sobre el eje horizontal.\n",
    "\n",
    "Si tanto x = 0 como y = 0, entonces deberás indicar que el punto se trata del origen de coordenadas."
   ]
  },
  {
   "cell_type": "code",
   "execution_count": 15,
   "id": "9ea2a3a4",
   "metadata": {},
   "outputs": [],
   "source": [
    "def Ubicacion(a,b):\n",
    "    if a == 0 and b == 0:\n",
    "        return 'Estamos en el origen'\n",
    "    elif a == 0:\n",
    "        return 'El punto se encuentra sobre el eje vertical'\n",
    "    elif b == 0:\n",
    "        return 'El punto se encuentra sobre el eje horizontal'\n",
    "    else:\n",
    "        if a > 0 and b > 0:\n",
    "            return 'Nos encontramos en el primer cuadrante'\n",
    "        elif a < 0 and b > 0:\n",
    "            return 'Nos encontramos en el segundo cuadrante'\n",
    "        elif a < 0 and b < 0:\n",
    "            return 'Nos encontramos en el tercer cuadrante'\n",
    "        else:\n",
    "            return 'Nos encontramos en el cuarto cuadrante'"
   ]
  },
  {
   "cell_type": "code",
   "execution_count": 18,
   "id": "59e302ca",
   "metadata": {
    "scrolled": true
   },
   "outputs": [
    {
     "name": "stdout",
     "output_type": "stream",
     "text": [
      "Estamos en el origen\n",
      "El punto se encuentra sobre el eje vertical\n",
      "El punto se encuentra sobre el eje horizontal\n",
      "Nos encontramos en el primer cuadrante\n",
      "Nos encontramos en el segundo cuadrante\n",
      "Nos encontramos en el tercer cuadrante\n",
      "Nos encontramos en el cuarto cuadrante\n"
     ]
    }
   ],
   "source": [
    "print(Ubicacion(0,0))\n",
    "print(Ubicacion(0,1))\n",
    "print(Ubicacion(1,0))\n",
    "print(Ubicacion(1,1))\n",
    "print(Ubicacion(-1,1))\n",
    "print(Ubicacion(-1,-1))\n",
    "print(Ubicacion(1,-1))"
   ]
  },
  {
   "cell_type": "markdown",
   "id": "c19008d5",
   "metadata": {},
   "source": [
    "Escribe una secuencia de instrucciones que permitan leer dos números enteros y muestre el cociente de la división entera y el resto de la división entera."
   ]
  },
  {
   "cell_type": "code",
   "execution_count": 19,
   "id": "423dcb5d",
   "metadata": {},
   "outputs": [],
   "source": [
    "def f(a,b):\n",
    "    return f'cociente: {a//b}, resto: {a%b}'\n",
    "    "
   ]
  },
  {
   "cell_type": "code",
   "execution_count": 20,
   "id": "de57d073",
   "metadata": {},
   "outputs": [
    {
     "data": {
      "text/plain": [
       "'cociente: 0, resto: 1'"
      ]
     },
     "execution_count": 20,
     "metadata": {},
     "output_type": "execute_result"
    }
   ],
   "source": [
    "f(1,2)"
   ]
  },
  {
   "cell_type": "markdown",
   "id": "530b5f59",
   "metadata": {},
   "source": [
    "Busca la imagen de un tablero de ajedrez en Google y fíjate en la nomenclatura de las casillas. Escribe una secuencia que lea una letra y un número de teclado correspondiente a una casilla de un tablero de ajedrez y que indique si esta casilla es negra o blanca."
   ]
  },
  {
   "cell_type": "code",
   "execution_count": null,
   "id": "e5ceb9f9",
   "metadata": {},
   "outputs": [],
   "source": [
    "def ajedrez(fila, columna):\n",
    "    if fila % 2 == 1:"
   ]
  }
 ],
 "metadata": {
  "kernelspec": {
   "display_name": "Python 3 (ipykernel)",
   "language": "python",
   "name": "python3"
  },
  "language_info": {
   "codemirror_mode": {
    "name": "ipython",
    "version": 3
   },
   "file_extension": ".py",
   "mimetype": "text/x-python",
   "name": "python",
   "nbconvert_exporter": "python",
   "pygments_lexer": "ipython3",
   "version": "3.10.9"
  }
 },
 "nbformat": 4,
 "nbformat_minor": 5
}
